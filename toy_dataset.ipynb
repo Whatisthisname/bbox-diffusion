{
 "cells": [
  {
   "cell_type": "code",
   "execution_count": 1,
   "metadata": {},
   "outputs": [
    {
     "data": {
      "image/png": "[encoded data removed]",
      "text/plain": [
       "<Figure size 640x480 with 1 Axes>"
      ]
     },
     "metadata": {},
     "output_type": "display_data"
    }
   ],
   "source": [
    "from torch import nn\n",
    "import torch\n",
    "import torchvision\n",
    "import matplotlib.pyplot as plt\n",
    "import square_data_generator\n",
    "from torchvision.utils import draw_bounding_boxes\n",
    "\n",
    "N_SQUARES = 1\n",
    "IMAGE_SIZE = (100, 100)\n",
    "\n",
    "test_img, test_bboxes, test_colors = square_data_generator.make_image(\n",
    "    IMAGE_SIZE, N_SQUARES\n",
    ")\n",
    "pred_points = torchvision.ops.box_convert(test_bboxes, in_fmt=\"cxcywh\", out_fmt=\"xyxy\")\n",
    "\n",
    "img_with_boxes = draw_bounding_boxes(\n",
    "    (test_img.permute(2, 0, 1) * 255).to(torch.uint8),\n",
    "    pred_points,\n",
    "    colors=test_colors,\n",
    "    width=1,\n",
    ")\n",
    "plt.imshow(img_with_boxes.permute(1, 2, 0));"
   ]
  },
  {
   "cell_type": "code",
   "execution_count": 2,
   "metadata": {},
   "outputs": [
    {
     "data": {
      "text/plain": [
       "torch.Size([100, 100, 3])"
      ]
     },
     "execution_count": 2,
     "metadata": {},
     "output_type": "execute_result"
    }
   ],
   "source": [
    "test_img.shape"
   ]
  },
  {
   "cell_type": "code",
   "execution_count": null,
   "metadata": {},
   "outputs": [],
   "source": [
    "from square_data_generator import label_sort_order_big_to_small\n",
    "\n",
    "\n",
    "def ordered_loss_big_to_small(\n",
    "    predicted_bboxes: torch.Tensor, target_bboxes: torch.Tensor\n",
    ") -> torch.Tensor:\n",
    "    _loss = 0\n",
    "\n",
    "    for batch_idx in range(predicted_bboxes.size(0)):\n",
    "        # sort_idx = label_sort_order_big_to_small(predicted_bboxes[batch_idx])\n",
    "        for idx in range(N_SQUARES):\n",
    "            _loss += nn.functional.mse_loss(\n",
    "                predicted_bboxes[0, idx], target_bboxes[batch_idx][idx]\n",
    "            )\n",
    "    return _loss\n",
    "\n",
    "\n",
    "def point_matching_loss_greedy(\n",
    "    pred_points: torch.Tensor, target_bboxes: torch.Tensor\n",
    ") -> torch.Tensor:\n",
    "    target_points = target_bboxes[:, :, :2]\n",
    "\n",
    "    batch_size = pred_points.size(0)\n",
    "    # random shuffle predicted bboxes\n",
    "    pred_points = pred_points[torch.randperm(batch_size)]\n",
    "\n",
    "    # greedy matching step\n",
    "    removed = torch.zeros(N_SQUARES, dtype=torch.bool)\n",
    "\n",
    "    loss = 0\n",
    "    for batch_idx in range(batch_size):\n",
    "        for idx in range(N_SQUARES):\n",
    "            # find the target bbox with the smallest L2 distance\n",
    "            diff = target_points[batch_idx] - pred_points[batch_idx, idx]\n",
    "            dists = torch.norm(diff, dim=1, p=2)\n",
    "            dists[removed] = float(\"inf\")  # set removed ones' distance to inf\n",
    "\n",
    "            best_match_idx = torch.argmin(dists)\n",
    "            removed[best_match_idx] = True\n",
    "\n",
    "            loss += nn.functional.mse_loss(\n",
    "                pred_points[batch_idx, idx], target_points[batch_idx, best_match_idx]\n",
    "            )\n",
    "\n",
    "    return loss\n",
    "\n",
    "\n",
    "def calculate_iou_cxcywh(\n",
    "    pred_boxes: torch.Tensor, target_boxes: torch.Tensor\n",
    ") -> torch.Tensor:\n",
    "    \"\"\"\n",
    "    Calculate IoU for bounding boxes in cxcywh format\n",
    "    Boxes are expected in format [center_x, center_y, width, height]\n",
    "    \"\"\"\n",
    "    # Convert cxcywh to corner coordinates\n",
    "    pred_cx, pred_cy, pred_w, pred_h = pred_boxes.unbind(-1)\n",
    "    targ_cx, targ_cy, targ_w, targ_h = target_boxes.unbind(-1)\n",
    "\n",
    "    # Calculate corner coordinates\n",
    "    pred_x1 = pred_cx - pred_w / 2\n",
    "    pred_y1 = pred_cy - pred_h / 2\n",
    "    pred_x2 = pred_cx + pred_w / 2\n",
    "    pred_y2 = pred_cy + pred_h / 2\n",
    "\n",
    "    targ_x1 = targ_cx - targ_w / 2\n",
    "    targ_y1 = targ_cy - targ_h / 2\n",
    "    targ_x2 = targ_cx + targ_w / 2\n",
    "    targ_y2 = targ_cy + targ_h / 2\n",
    "\n",
    "    # Calculate intersection coordinates\n",
    "    inter_x1 = torch.max(pred_x1, targ_x1)\n",
    "    inter_y1 = torch.max(pred_y1, targ_y1)\n",
    "    inter_x2 = torch.min(pred_x2, targ_x2)\n",
    "    inter_y2 = torch.min(pred_y2, targ_y2)\n",
    "\n",
    "    # Calculate intersection area\n",
    "    inter_width = torch.clamp(inter_x2 - inter_x1, min=0)\n",
    "    inter_height = torch.clamp(inter_y2 - inter_y1, min=0)\n",
    "    inter_area = inter_width * inter_height\n",
    "\n",
    "    # Calculate union area\n",
    "    pred_area = pred_w * pred_h\n",
    "    targ_area = targ_w * targ_h\n",
    "    union_area = pred_area + targ_area - inter_area\n",
    "\n",
    "    # Calculate IoU\n",
    "    iou = inter_area / (union_area + 1e-6)  # Add epsilon to avoid division by zero\n",
    "    return iou\n",
    "\n",
    "\n",
    "def ordered_iou_loss_big_to_small(\n",
    "    predicted_bboxes: torch.Tensor, target_bboxes: torch.Tensor\n",
    ") -> torch.Tensor:\n",
    "    \"\"\"\n",
    "    Calculate IoU loss for ordered bounding boxes in cxcywh format\n",
    "    Args:\n",
    "        predicted_bboxes: Tensor of shape (batch_size, num_boxes, 4) in [cx, cy, w, h]\n",
    "        target_bboxes: Tensor of shape (batch_size, num_boxes, 4) in [cx, cy, w, h]\n",
    "    Returns:\n",
    "        Total IoU loss\n",
    "    \"\"\"\n",
    "    _loss = 0.0\n",
    "\n",
    "    for batch_idx in range(predicted_bboxes.size(0)):\n",
    "        for idx in range(5):  # Assuming 5 boxes as in original code\n",
    "            # Calculate IoU for each pair of boxes\n",
    "            iou = calculate_iou_cxcywh(\n",
    "                predicted_bboxes[batch_idx, idx], target_bboxes[batch_idx, idx]\n",
    "            )\n",
    "            # Convert IoU to loss (1 - IoU)\n",
    "            box_loss = 1 - iou\n",
    "            _loss += box_loss\n",
    "\n",
    "    return _loss\n"
   ]
  },
  {
   "cell_type": "code",
   "execution_count": 4,
   "metadata": {},
   "outputs": [],
   "source": [
    "dataset = square_data_generator.SquareDataset(\n",
    "    image_size=(100, 100),\n",
    "    num_boxes=N_SQUARES,\n",
    "    num_samples=10,\n",
    ")\n",
    "dataloader = torch.utils.data.DataLoader(dataset, batch_size=32, shuffle=True)"
   ]
  },
  {
   "cell_type": "code",
   "execution_count": 5,
   "metadata": {},
   "outputs": [],
   "source": [
    "import torch\n",
    "import torch.nn.functional as F\n",
    "from scipy.optimize import linear_sum_assignment\n",
    "\n",
    "\n",
    "def point_matching_loss_optimal(\n",
    "    pred_points: torch.Tensor, target_bboxes: torch.Tensor\n",
    ") -> torch.Tensor:\n",
    "    \"\"\"\n",
    "    Compute the matching loss between pred_points and target_bboxes using\n",
    "    a global optimal assignment (Hungarian algorithm) for each batch element.\n",
    "\n",
    "    Args:\n",
    "        pred_points: shape (batch_size, N, 2)\n",
    "        target_bboxes: shape (batch_size, N, 4) or (batch_size, N, 2 + anything).\n",
    "                       We only use the first two columns as (x, y).\n",
    "    Returns:\n",
    "        total_loss: scalar tensor (sum of MSE across all matched pairs in the entire batch).\n",
    "    \"\"\"\n",
    "    # Only keep the (x, y) part of the target\n",
    "    target_points = target_bboxes[..., :2]\n",
    "\n",
    "    # Randomly shuffle predicted bboxes across the batch dim\n",
    "    # ( If you intended to shuffle per-batch differently, you'd do it per index;\n",
    "    #   but here it follows your original code's single permutation. )\n",
    "    batch_perm = torch.randperm(pred_points.size(0))\n",
    "    pred_points = pred_points[batch_perm]\n",
    "\n",
    "    batch_size, n_squares, _ = pred_points.shape\n",
    "    total_loss = 0.0\n",
    "\n",
    "    for b_idx in range(batch_size):\n",
    "        # Compute cost matrix of shape (n_squares, n_squares) = squared distances\n",
    "        # We can use torch.cdist(..., p=2) then square it, or directly compute squared distances\n",
    "        # cost[i, j] = ||pred_i - target_j||^2\n",
    "        diff = pred_points[b_idx].unsqueeze(1) - target_points[b_idx].unsqueeze(0)\n",
    "        # cost_matrix = (diff**2).sum(dim=-1)  # shape: [N, N]\n",
    "        cost_matrix = (diff.abs()).sum(dim=-1)  # shape: [N, N]\n",
    "\n",
    "        # Hungarian algorithm: find minimal-cost assignment\n",
    "        # linear_sum_assignment expects a NumPy array on CPU\n",
    "        row_ind, col_ind = linear_sum_assignment(cost_matrix.cpu().detach().numpy())\n",
    "\n",
    "        # Matched pairs: pred_points[b_idx, row_ind] and target_points[b_idx, col_ind]\n",
    "        matched_pred = pred_points[b_idx, row_ind]\n",
    "        matched_tgt = target_points[b_idx, col_ind]\n",
    "\n",
    "        # ----\n",
    "        # Replicate what your original loop-based code does with\n",
    "        # nn.functional.mse_loss(...). By default, F.mse_loss uses \"mean\" over features,\n",
    "        # and you were summing over squares. So let's replicate that carefully.\n",
    "        #\n",
    "        # For each pair, your original code does:\n",
    "        #     loss += mse_loss(pred[i], target[i])  # which is mean((x1 - x2)^2 + (y1 - y2)^2)\n",
    "        # Then you sum that across all squares. So effectively you get\n",
    "        # sum_{i=1..N} ( (dx_i^2 + dy_i^2)/2 ).\n",
    "        #\n",
    "        # We can do the same in a vectorized way:\n",
    "\n",
    "        # mse_per_pair shape [N, 2] -> we mean over dim=1 (the 2D coords), giving shape [N]\n",
    "        mse_per_pair = F.mse_loss(matched_pred, matched_tgt, reduction=\"none\").mean(\n",
    "            dim=1\n",
    "        )\n",
    "\n",
    "        # Sum across all matched pairs\n",
    "        total_loss += mse_per_pair.sum()\n",
    "\n",
    "    return total_loss\n"
   ]
  },
  {
   "cell_type": "code",
   "execution_count": 6,
   "metadata": {},
   "outputs": [
    {
     "name": "stderr",
     "output_type": "stream",
     "text": [
      "100%|██████████| 1/1 [00:00<00:00, 16.51it/s]\n"
     ]
    },
    {
     "name": "stdout",
     "output_type": "stream",
     "text": [
      "Epoch [1/40], Loss: 31090.091796875\n"
     ]
    },
    {
     "name": "stderr",
     "output_type": "stream",
     "text": [
      "100%|██████████| 1/1 [00:00<00:00, 27.78it/s]\n"
     ]
    },
    {
     "name": "stdout",
     "output_type": "stream",
     "text": [
      "Epoch [2/40], Loss: 27537.85546875\n"
     ]
    },
    {
     "name": "stderr",
     "output_type": "stream",
     "text": [
      "100%|██████████| 1/1 [00:00<00:00, 38.85it/s]\n"
     ]
    },
    {
     "name": "stdout",
     "output_type": "stream",
     "text": [
      "Epoch [3/40], Loss: 22889.439453125\n"
     ]
    },
    {
     "name": "stderr",
     "output_type": "stream",
     "text": [
      "100%|██████████| 1/1 [00:00<00:00, 42.32it/s]\n"
     ]
    },
    {
     "name": "stdout",
     "output_type": "stream",
     "text": [
      "Epoch [4/40], Loss: 15775.1162109375\n"
     ]
    },
    {
     "name": "stderr",
     "output_type": "stream",
     "text": [
      "100%|██████████| 1/1 [00:00<00:00, 38.40it/s]\n"
     ]
    },
    {
     "name": "stdout",
     "output_type": "stream",
     "text": [
      "Epoch [5/40], Loss: 6540.95361328125\n"
     ]
    },
    {
     "name": "stderr",
     "output_type": "stream",
     "text": [
      "100%|██████████| 1/1 [00:00<00:00, 17.75it/s]\n"
     ]
    },
    {
     "name": "stdout",
     "output_type": "stream",
     "text": [
      "Epoch [6/40], Loss: 3979.956787109375\n"
     ]
    },
    {
     "name": "stderr",
     "output_type": "stream",
     "text": [
      "100%|██████████| 1/1 [00:00<00:00, 41.94it/s]\n"
     ]
    },
    {
     "name": "stdout",
     "output_type": "stream",
     "text": [
      "Epoch [7/40], Loss: 8596.7490234375\n"
     ]
    },
    {
     "name": "stderr",
     "output_type": "stream",
     "text": [
      "100%|██████████| 1/1 [00:00<00:00, 31.25it/s]\n"
     ]
    },
    {
     "name": "stdout",
     "output_type": "stream",
     "text": [
      "Epoch [8/40], Loss: 9540.669921875\n"
     ]
    },
    {
     "name": "stderr",
     "output_type": "stream",
     "text": [
      "100%|██████████| 1/1 [00:00<00:00, 39.61it/s]\n"
     ]
    },
    {
     "name": "stdout",
     "output_type": "stream",
     "text": [
      "Epoch [9/40], Loss: 7003.70361328125\n"
     ]
    },
    {
     "name": "stderr",
     "output_type": "stream",
     "text": [
      "100%|██████████| 1/1 [00:00<00:00, 33.85it/s]\n"
     ]
    },
    {
     "name": "stdout",
     "output_type": "stream",
     "text": [
      "Epoch [10/40], Loss: 4601.49853515625\n"
     ]
    },
    {
     "name": "stderr",
     "output_type": "stream",
     "text": [
      "100%|██████████| 1/1 [00:00<00:00, 45.09it/s]\n"
     ]
    },
    {
     "name": "stdout",
     "output_type": "stream",
     "text": [
      "Epoch [11/40], Loss: 3211.7529296875\n"
     ]
    },
    {
     "name": "stderr",
     "output_type": "stream",
     "text": [
      "100%|██████████| 1/1 [00:00<00:00, 34.09it/s]\n"
     ]
    },
    {
     "name": "stdout",
     "output_type": "stream",
     "text": [
      "Epoch [12/40], Loss: 3619.4091796875\n"
     ]
    },
    {
     "name": "stderr",
     "output_type": "stream",
     "text": [
      "100%|██████████| 1/1 [00:00<00:00, 40.83it/s]\n"
     ]
    },
    {
     "name": "stdout",
     "output_type": "stream",
     "text": [
      "Epoch [13/40], Loss: 4676.296875\n"
     ]
    },
    {
     "name": "stderr",
     "output_type": "stream",
     "text": [
      "100%|██████████| 1/1 [00:00<00:00, 42.65it/s]\n"
     ]
    },
    {
     "name": "stdout",
     "output_type": "stream",
     "text": [
      "Epoch [14/40], Loss: 5139.2724609375\n"
     ]
    },
    {
     "name": "stderr",
     "output_type": "stream",
     "text": [
      "100%|██████████| 1/1 [00:00<00:00, 33.74it/s]\n"
     ]
    },
    {
     "name": "stdout",
     "output_type": "stream",
     "text": [
      "Epoch [15/40], Loss: 4893.81396484375\n"
     ]
    },
    {
     "name": "stderr",
     "output_type": "stream",
     "text": [
      "100%|██████████| 1/1 [00:00<00:00, 41.35it/s]\n"
     ]
    },
    {
     "name": "stdout",
     "output_type": "stream",
     "text": [
      "Epoch [16/40], Loss: 4278.48388671875\n"
     ]
    },
    {
     "name": "stderr",
     "output_type": "stream",
     "text": [
      "100%|██████████| 1/1 [00:00<00:00, 42.93it/s]\n"
     ]
    },
    {
     "name": "stdout",
     "output_type": "stream",
     "text": [
      "Epoch [17/40], Loss: 3451.55712890625\n"
     ]
    },
    {
     "name": "stderr",
     "output_type": "stream",
     "text": [
      "100%|██████████| 1/1 [00:00<00:00, 41.11it/s]\n"
     ]
    },
    {
     "name": "stdout",
     "output_type": "stream",
     "text": [
      "Epoch [18/40], Loss: 3162.537353515625\n"
     ]
    },
    {
     "name": "stderr",
     "output_type": "stream",
     "text": [
      "100%|██████████| 1/1 [00:00<00:00, 42.72it/s]\n"
     ]
    },
    {
     "name": "stdout",
     "output_type": "stream",
     "text": [
      "Epoch [19/40], Loss: 2957.573974609375\n"
     ]
    },
    {
     "name": "stderr",
     "output_type": "stream",
     "text": [
      "100%|██████████| 1/1 [00:00<00:00, 43.11it/s]\n"
     ]
    },
    {
     "name": "stdout",
     "output_type": "stream",
     "text": [
      "Epoch [20/40], Loss: 3316.014892578125\n"
     ]
    },
    {
     "name": "stderr",
     "output_type": "stream",
     "text": [
      "100%|██████████| 1/1 [00:00<00:00, 45.10it/s]\n"
     ]
    },
    {
     "name": "stdout",
     "output_type": "stream",
     "text": [
      "Epoch [21/40], Loss: 3956.439453125\n"
     ]
    },
    {
     "name": "stderr",
     "output_type": "stream",
     "text": [
      "100%|██████████| 1/1 [00:00<00:00, 51.37it/s]\n"
     ]
    },
    {
     "name": "stdout",
     "output_type": "stream",
     "text": [
      "Epoch [22/40], Loss: 3784.52880859375\n"
     ]
    },
    {
     "name": "stderr",
     "output_type": "stream",
     "text": [
      "100%|██████████| 1/1 [00:00<00:00, 47.89it/s]\n"
     ]
    },
    {
     "name": "stdout",
     "output_type": "stream",
     "text": [
      "Epoch [23/40], Loss: 3806.497802734375\n"
     ]
    },
    {
     "name": "stderr",
     "output_type": "stream",
     "text": [
      "100%|██████████| 1/1 [00:00<00:00, 39.64it/s]\n"
     ]
    },
    {
     "name": "stdout",
     "output_type": "stream",
     "text": [
      "Epoch [24/40], Loss: 3550.991455078125\n"
     ]
    },
    {
     "name": "stderr",
     "output_type": "stream",
     "text": [
      "100%|██████████| 1/1 [00:00<00:00, 26.30it/s]\n"
     ]
    },
    {
     "name": "stdout",
     "output_type": "stream",
     "text": [
      "Epoch [25/40], Loss: 3190.92431640625\n"
     ]
    },
    {
     "name": "stderr",
     "output_type": "stream",
     "text": [
      "100%|██████████| 1/1 [00:00<00:00, 45.98it/s]\n"
     ]
    },
    {
     "name": "stdout",
     "output_type": "stream",
     "text": [
      "Epoch [26/40], Loss: 3091.284423828125\n"
     ]
    },
    {
     "name": "stderr",
     "output_type": "stream",
     "text": [
      "100%|██████████| 1/1 [00:00<00:00, 47.16it/s]\n"
     ]
    },
    {
     "name": "stdout",
     "output_type": "stream",
     "text": [
      "Epoch [27/40], Loss: 3200.7275390625\n"
     ]
    },
    {
     "name": "stderr",
     "output_type": "stream",
     "text": [
      "100%|██████████| 1/1 [00:00<00:00, 50.23it/s]\n"
     ]
    },
    {
     "name": "stdout",
     "output_type": "stream",
     "text": [
      "Epoch [28/40], Loss: 3214.9169921875\n"
     ]
    },
    {
     "name": "stderr",
     "output_type": "stream",
     "text": [
      "100%|██████████| 1/1 [00:00<00:00, 44.48it/s]\n"
     ]
    },
    {
     "name": "stdout",
     "output_type": "stream",
     "text": [
      "Epoch [29/40], Loss: 3391.403076171875\n"
     ]
    },
    {
     "name": "stderr",
     "output_type": "stream",
     "text": [
      "100%|██████████| 1/1 [00:00<00:00, 50.59it/s]\n"
     ]
    },
    {
     "name": "stdout",
     "output_type": "stream",
     "text": [
      "Epoch [30/40], Loss: 3326.37744140625\n"
     ]
    },
    {
     "name": "stderr",
     "output_type": "stream",
     "text": [
      "100%|██████████| 1/1 [00:00<00:00, 47.26it/s]\n"
     ]
    },
    {
     "name": "stdout",
     "output_type": "stream",
     "text": [
      "Epoch [31/40], Loss: 3311.617919921875\n"
     ]
    },
    {
     "name": "stderr",
     "output_type": "stream",
     "text": [
      "100%|██████████| 1/1 [00:00<00:00, 41.00it/s]\n"
     ]
    },
    {
     "name": "stdout",
     "output_type": "stream",
     "text": [
      "Epoch [32/40], Loss: 3196.8115234375\n"
     ]
    },
    {
     "name": "stderr",
     "output_type": "stream",
     "text": [
      "100%|██████████| 1/1 [00:00<00:00, 16.16it/s]\n"
     ]
    },
    {
     "name": "stdout",
     "output_type": "stream",
     "text": [
      "Epoch [33/40], Loss: 3193.502197265625\n"
     ]
    },
    {
     "name": "stderr",
     "output_type": "stream",
     "text": [
      "100%|██████████| 1/1 [00:00<00:00, 44.48it/s]\n"
     ]
    },
    {
     "name": "stdout",
     "output_type": "stream",
     "text": [
      "Epoch [34/40], Loss: 3005.307861328125\n"
     ]
    },
    {
     "name": "stderr",
     "output_type": "stream",
     "text": [
      "100%|██████████| 1/1 [00:00<00:00, 40.47it/s]\n"
     ]
    },
    {
     "name": "stdout",
     "output_type": "stream",
     "text": [
      "Epoch [35/40], Loss: 2856.900146484375\n"
     ]
    },
    {
     "name": "stderr",
     "output_type": "stream",
     "text": [
      "100%|██████████| 1/1 [00:00<00:00, 51.61it/s]\n"
     ]
    },
    {
     "name": "stdout",
     "output_type": "stream",
     "text": [
      "Epoch [36/40], Loss: 3020.8046875\n"
     ]
    },
    {
     "name": "stderr",
     "output_type": "stream",
     "text": [
      "100%|██████████| 1/1 [00:00<00:00, 49.92it/s]\n"
     ]
    },
    {
     "name": "stdout",
     "output_type": "stream",
     "text": [
      "Epoch [37/40], Loss: 3306.018798828125\n"
     ]
    },
    {
     "name": "stderr",
     "output_type": "stream",
     "text": [
      "100%|██████████| 1/1 [00:00<00:00, 38.43it/s]\n"
     ]
    },
    {
     "name": "stdout",
     "output_type": "stream",
     "text": [
      "Epoch [38/40], Loss: 3255.0322265625\n"
     ]
    },
    {
     "name": "stderr",
     "output_type": "stream",
     "text": [
      "100%|██████████| 1/1 [00:00<00:00, 52.57it/s]\n"
     ]
    },
    {
     "name": "stdout",
     "output_type": "stream",
     "text": [
      "Epoch [39/40], Loss: 3081.8154296875\n"
     ]
    },
    {
     "name": "stderr",
     "output_type": "stream",
     "text": [
      "100%|██████████| 1/1 [00:00<00:00, 49.83it/s]"
     ]
    },
    {
     "name": "stdout",
     "output_type": "stream",
     "text": [
      "Epoch [40/40], Loss: 2948.410400390625\n"
     ]
    },
    {
     "name": "stderr",
     "output_type": "stream",
     "text": [
      "\n"
     ]
    }
   ],
   "source": [
    "import utils\n",
    "import tqdm\n",
    "import pred_model\n",
    "# Training parameters\n",
    "\n",
    "num_epochs = 40\n",
    "learning_rate = 0.001\n",
    "\n",
    "# Initialize model, loss function, and optimizer\n",
    "model = pred_model.PointPredictor(n_output_boxes=N_SQUARES)\n",
    "optimizer = torch.optim.Adam(model.parameters(), lr=learning_rate)\n",
    "\n",
    "test_images = []\n",
    "\n",
    "# Training loop\n",
    "losses = []\n",
    "for epoch in range(num_epochs):\n",
    "    model.eval()\n",
    "    with torch.no_grad():\n",
    "        test_pred_points = model(test_img.permute(2, 0, 1).unsqueeze(0))\n",
    "        test_images.append(\n",
    "            utils.draw_points_on_image(test_img.numpy(), test_pred_points[0])\n",
    "        )\n",
    "\n",
    "    model.train()\n",
    "    running_loss = 0.0\n",
    "    for images, target_bboxes in tqdm.tqdm(dataloader):\n",
    "        #### override data to be the test image\n",
    "        # images = test_img.permute(2, 0, 1).unsqueeze(0)\n",
    "        # target_bboxes = test_bboxes.unsqueeze(0)\n",
    "        ###\n",
    "        optimizer.zero_grad()\n",
    "        pred_points = model(images)\n",
    "        loss = point_matching_loss_greedy(pred_points, target_bboxes)\n",
    "        loss.backward()\n",
    "        optimizer.step()\n",
    "        running_loss += loss.item()\n",
    "        # optimizer.step()_loss += loss.item()\n",
    "        losses.append(loss.item())\n",
    "\n",
    "    print(f\"Epoch [{epoch+1}/{num_epochs}], Loss: {running_loss/len(dataloader)}\")\n",
    "    # losses.append(running_loss / len(dataloader))\n"
   ]
  },
  {
   "cell_type": "code",
   "execution_count": 7,
   "metadata": {},
   "outputs": [
    {
     "data": {
      "image/png": "[encoded data removed]",
      "text/plain": [
       "<Figure size 900x4200 with 42 Axes>"
      ]
     },
     "metadata": {},
     "output_type": "display_data"
    }
   ],
   "source": [
    "# go through all images and plot them in a img grid\n",
    "n_images = len(test_images) + 1\n",
    "n_cols = 3\n",
    "n_rows = n_images // n_cols + 1\n",
    "fig, ax = plt.subplots(n_rows, n_cols, figsize=(n_cols * 3, n_rows * 3))\n",
    "for i in range(n_images - 1):\n",
    "    this_ax = ax[i // n_cols, i % n_cols]\n",
    "    this_ax.imshow(test_images[i], origin=\"lower\")\n",
    "    this_ax.axis(\"off\")\n",
    "    this_ax.set_title(f\"Epoch {i}\")\n",
    "\n",
    "[a.axis(\"off\") for a in ax.flatten()]\n",
    "\n",
    "ax.flatten()[-1].plot(losses)\n",
    "ax.flatten()[-1].axis(\"on\")\n",
    "ax.flatten()[-1].set_xticks(range(len(losses)))\n",
    "\n",
    "plt.show();"
   ]
  }
 ],
 "metadata": {
  "kernelspec": {
   "display_name": "Python 3",
   "language": "python",
   "name": "python3"
  },
  "language_info": {
   "codemirror_mode": {
    "name": "ipython",
    "version": 3
   },
   "file_extension": ".py",
   "mimetype": "text/x-python",
   "name": "python",
   "nbconvert_exporter": "python",
   "pygments_lexer": "ipython3",
   "version": "3.9.6"
  }
 },
 "nbformat": 4,
 "nbformat_minor": 2
}
